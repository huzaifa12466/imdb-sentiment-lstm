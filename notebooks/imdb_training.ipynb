{
  "nbformat": 4,
  "nbformat_minor": 0,
  "metadata": {
    "colab": {
      "provenance": [],
      "gpuType": "T4"
    },
    "kernelspec": {
      "name": "python3",
      "display_name": "Python 3"
    },
    "language_info": {
      "name": "python"
    },
    "accelerator": "GPU"
  },
  "cells": [
    {
      "cell_type": "code",
      "execution_count": 1,
      "metadata": {
        "id": "OnO1KPltxHcz"
      },
      "outputs": [],
      "source": [
        "# imports\n",
        "import pandas as pd\n",
        "import numpy as np\n",
        "import matplotlib.pyplot as plt\n",
        "from sklearn.model_selection import train_test_split\n",
        "import torch"
      ]
    },
    {
      "cell_type": "code",
      "source": [
        "device = torch.device(\"cuda\" if torch.cuda.is_available() else \"cpu\")"
      ],
      "metadata": {
        "id": "bjJmW3NuxRk-"
      },
      "execution_count": 2,
      "outputs": []
    },
    {
      "cell_type": "code",
      "source": [
        "df = pd.read_csv(\n",
        "    \"/content/IMDB Dataset.csv\",\n",
        "    engine=\"python\",\n",
        "\n",
        "    on_bad_lines=\"skip\"\n",
        ")\n"
      ],
      "metadata": {
        "id": "Z1fmaNofxVbL"
      },
      "execution_count": 3,
      "outputs": []
    },
    {
      "cell_type": "code",
      "source": [
        "df.head(3)"
      ],
      "metadata": {
        "colab": {
          "base_uri": "https://localhost:8080/",
          "height": 143
        },
        "id": "LyvjHvwmxfm6",
        "outputId": "59e14c56-1c27-4738-e87a-2ed37db82639"
      },
      "execution_count": 4,
      "outputs": [
        {
          "output_type": "execute_result",
          "data": {
            "text/plain": [
              "                                              review sentiment\n",
              "0  One of the other reviewers has mentioned that ...  positive\n",
              "1  A wonderful little production. <br /><br />The...  positive\n",
              "2  I thought this was a wonderful way to spend ti...  positive"
            ],
            "text/html": [
              "\n",
              "  <div id=\"df-0322723c-beb1-4c38-a866-990f88ff1b4a\" class=\"colab-df-container\">\n",
              "    <div>\n",
              "<style scoped>\n",
              "    .dataframe tbody tr th:only-of-type {\n",
              "        vertical-align: middle;\n",
              "    }\n",
              "\n",
              "    .dataframe tbody tr th {\n",
              "        vertical-align: top;\n",
              "    }\n",
              "\n",
              "    .dataframe thead th {\n",
              "        text-align: right;\n",
              "    }\n",
              "</style>\n",
              "<table border=\"1\" class=\"dataframe\">\n",
              "  <thead>\n",
              "    <tr style=\"text-align: right;\">\n",
              "      <th></th>\n",
              "      <th>review</th>\n",
              "      <th>sentiment</th>\n",
              "    </tr>\n",
              "  </thead>\n",
              "  <tbody>\n",
              "    <tr>\n",
              "      <th>0</th>\n",
              "      <td>One of the other reviewers has mentioned that ...</td>\n",
              "      <td>positive</td>\n",
              "    </tr>\n",
              "    <tr>\n",
              "      <th>1</th>\n",
              "      <td>A wonderful little production. &lt;br /&gt;&lt;br /&gt;The...</td>\n",
              "      <td>positive</td>\n",
              "    </tr>\n",
              "    <tr>\n",
              "      <th>2</th>\n",
              "      <td>I thought this was a wonderful way to spend ti...</td>\n",
              "      <td>positive</td>\n",
              "    </tr>\n",
              "  </tbody>\n",
              "</table>\n",
              "</div>\n",
              "    <div class=\"colab-df-buttons\">\n",
              "\n",
              "  <div class=\"colab-df-container\">\n",
              "    <button class=\"colab-df-convert\" onclick=\"convertToInteractive('df-0322723c-beb1-4c38-a866-990f88ff1b4a')\"\n",
              "            title=\"Convert this dataframe to an interactive table.\"\n",
              "            style=\"display:none;\">\n",
              "\n",
              "  <svg xmlns=\"http://www.w3.org/2000/svg\" height=\"24px\" viewBox=\"0 -960 960 960\">\n",
              "    <path d=\"M120-120v-720h720v720H120Zm60-500h600v-160H180v160Zm220 220h160v-160H400v160Zm0 220h160v-160H400v160ZM180-400h160v-160H180v160Zm440 0h160v-160H620v160ZM180-180h160v-160H180v160Zm440 0h160v-160H620v160Z\"/>\n",
              "  </svg>\n",
              "    </button>\n",
              "\n",
              "  <style>\n",
              "    .colab-df-container {\n",
              "      display:flex;\n",
              "      gap: 12px;\n",
              "    }\n",
              "\n",
              "    .colab-df-convert {\n",
              "      background-color: #E8F0FE;\n",
              "      border: none;\n",
              "      border-radius: 50%;\n",
              "      cursor: pointer;\n",
              "      display: none;\n",
              "      fill: #1967D2;\n",
              "      height: 32px;\n",
              "      padding: 0 0 0 0;\n",
              "      width: 32px;\n",
              "    }\n",
              "\n",
              "    .colab-df-convert:hover {\n",
              "      background-color: #E2EBFA;\n",
              "      box-shadow: 0px 1px 2px rgba(60, 64, 67, 0.3), 0px 1px 3px 1px rgba(60, 64, 67, 0.15);\n",
              "      fill: #174EA6;\n",
              "    }\n",
              "\n",
              "    .colab-df-buttons div {\n",
              "      margin-bottom: 4px;\n",
              "    }\n",
              "\n",
              "    [theme=dark] .colab-df-convert {\n",
              "      background-color: #3B4455;\n",
              "      fill: #D2E3FC;\n",
              "    }\n",
              "\n",
              "    [theme=dark] .colab-df-convert:hover {\n",
              "      background-color: #434B5C;\n",
              "      box-shadow: 0px 1px 3px 1px rgba(0, 0, 0, 0.15);\n",
              "      filter: drop-shadow(0px 1px 2px rgba(0, 0, 0, 0.3));\n",
              "      fill: #FFFFFF;\n",
              "    }\n",
              "  </style>\n",
              "\n",
              "    <script>\n",
              "      const buttonEl =\n",
              "        document.querySelector('#df-0322723c-beb1-4c38-a866-990f88ff1b4a button.colab-df-convert');\n",
              "      buttonEl.style.display =\n",
              "        google.colab.kernel.accessAllowed ? 'block' : 'none';\n",
              "\n",
              "      async function convertToInteractive(key) {\n",
              "        const element = document.querySelector('#df-0322723c-beb1-4c38-a866-990f88ff1b4a');\n",
              "        const dataTable =\n",
              "          await google.colab.kernel.invokeFunction('convertToInteractive',\n",
              "                                                    [key], {});\n",
              "        if (!dataTable) return;\n",
              "\n",
              "        const docLinkHtml = 'Like what you see? Visit the ' +\n",
              "          '<a target=\"_blank\" href=https://colab.research.google.com/notebooks/data_table.ipynb>data table notebook</a>'\n",
              "          + ' to learn more about interactive tables.';\n",
              "        element.innerHTML = '';\n",
              "        dataTable['output_type'] = 'display_data';\n",
              "        await google.colab.output.renderOutput(dataTable, element);\n",
              "        const docLink = document.createElement('div');\n",
              "        docLink.innerHTML = docLinkHtml;\n",
              "        element.appendChild(docLink);\n",
              "      }\n",
              "    </script>\n",
              "  </div>\n",
              "\n",
              "\n",
              "    <div id=\"df-10bdecc1-167e-493f-91f6-947f925b748d\">\n",
              "      <button class=\"colab-df-quickchart\" onclick=\"quickchart('df-10bdecc1-167e-493f-91f6-947f925b748d')\"\n",
              "                title=\"Suggest charts\"\n",
              "                style=\"display:none;\">\n",
              "\n",
              "<svg xmlns=\"http://www.w3.org/2000/svg\" height=\"24px\"viewBox=\"0 0 24 24\"\n",
              "     width=\"24px\">\n",
              "    <g>\n",
              "        <path d=\"M19 3H5c-1.1 0-2 .9-2 2v14c0 1.1.9 2 2 2h14c1.1 0 2-.9 2-2V5c0-1.1-.9-2-2-2zM9 17H7v-7h2v7zm4 0h-2V7h2v10zm4 0h-2v-4h2v4z\"/>\n",
              "    </g>\n",
              "</svg>\n",
              "      </button>\n",
              "\n",
              "<style>\n",
              "  .colab-df-quickchart {\n",
              "      --bg-color: #E8F0FE;\n",
              "      --fill-color: #1967D2;\n",
              "      --hover-bg-color: #E2EBFA;\n",
              "      --hover-fill-color: #174EA6;\n",
              "      --disabled-fill-color: #AAA;\n",
              "      --disabled-bg-color: #DDD;\n",
              "  }\n",
              "\n",
              "  [theme=dark] .colab-df-quickchart {\n",
              "      --bg-color: #3B4455;\n",
              "      --fill-color: #D2E3FC;\n",
              "      --hover-bg-color: #434B5C;\n",
              "      --hover-fill-color: #FFFFFF;\n",
              "      --disabled-bg-color: #3B4455;\n",
              "      --disabled-fill-color: #666;\n",
              "  }\n",
              "\n",
              "  .colab-df-quickchart {\n",
              "    background-color: var(--bg-color);\n",
              "    border: none;\n",
              "    border-radius: 50%;\n",
              "    cursor: pointer;\n",
              "    display: none;\n",
              "    fill: var(--fill-color);\n",
              "    height: 32px;\n",
              "    padding: 0;\n",
              "    width: 32px;\n",
              "  }\n",
              "\n",
              "  .colab-df-quickchart:hover {\n",
              "    background-color: var(--hover-bg-color);\n",
              "    box-shadow: 0 1px 2px rgba(60, 64, 67, 0.3), 0 1px 3px 1px rgba(60, 64, 67, 0.15);\n",
              "    fill: var(--button-hover-fill-color);\n",
              "  }\n",
              "\n",
              "  .colab-df-quickchart-complete:disabled,\n",
              "  .colab-df-quickchart-complete:disabled:hover {\n",
              "    background-color: var(--disabled-bg-color);\n",
              "    fill: var(--disabled-fill-color);\n",
              "    box-shadow: none;\n",
              "  }\n",
              "\n",
              "  .colab-df-spinner {\n",
              "    border: 2px solid var(--fill-color);\n",
              "    border-color: transparent;\n",
              "    border-bottom-color: var(--fill-color);\n",
              "    animation:\n",
              "      spin 1s steps(1) infinite;\n",
              "  }\n",
              "\n",
              "  @keyframes spin {\n",
              "    0% {\n",
              "      border-color: transparent;\n",
              "      border-bottom-color: var(--fill-color);\n",
              "      border-left-color: var(--fill-color);\n",
              "    }\n",
              "    20% {\n",
              "      border-color: transparent;\n",
              "      border-left-color: var(--fill-color);\n",
              "      border-top-color: var(--fill-color);\n",
              "    }\n",
              "    30% {\n",
              "      border-color: transparent;\n",
              "      border-left-color: var(--fill-color);\n",
              "      border-top-color: var(--fill-color);\n",
              "      border-right-color: var(--fill-color);\n",
              "    }\n",
              "    40% {\n",
              "      border-color: transparent;\n",
              "      border-right-color: var(--fill-color);\n",
              "      border-top-color: var(--fill-color);\n",
              "    }\n",
              "    60% {\n",
              "      border-color: transparent;\n",
              "      border-right-color: var(--fill-color);\n",
              "    }\n",
              "    80% {\n",
              "      border-color: transparent;\n",
              "      border-right-color: var(--fill-color);\n",
              "      border-bottom-color: var(--fill-color);\n",
              "    }\n",
              "    90% {\n",
              "      border-color: transparent;\n",
              "      border-bottom-color: var(--fill-color);\n",
              "    }\n",
              "  }\n",
              "</style>\n",
              "\n",
              "      <script>\n",
              "        async function quickchart(key) {\n",
              "          const quickchartButtonEl =\n",
              "            document.querySelector('#' + key + ' button');\n",
              "          quickchartButtonEl.disabled = true;  // To prevent multiple clicks.\n",
              "          quickchartButtonEl.classList.add('colab-df-spinner');\n",
              "          try {\n",
              "            const charts = await google.colab.kernel.invokeFunction(\n",
              "                'suggestCharts', [key], {});\n",
              "          } catch (error) {\n",
              "            console.error('Error during call to suggestCharts:', error);\n",
              "          }\n",
              "          quickchartButtonEl.classList.remove('colab-df-spinner');\n",
              "          quickchartButtonEl.classList.add('colab-df-quickchart-complete');\n",
              "        }\n",
              "        (() => {\n",
              "          let quickchartButtonEl =\n",
              "            document.querySelector('#df-10bdecc1-167e-493f-91f6-947f925b748d button');\n",
              "          quickchartButtonEl.style.display =\n",
              "            google.colab.kernel.accessAllowed ? 'block' : 'none';\n",
              "        })();\n",
              "      </script>\n",
              "    </div>\n",
              "\n",
              "    </div>\n",
              "  </div>\n"
            ],
            "application/vnd.google.colaboratory.intrinsic+json": {
              "type": "dataframe",
              "variable_name": "df",
              "summary": "{\n  \"name\": \"df\",\n  \"rows\": 50000,\n  \"fields\": [\n    {\n      \"column\": \"review\",\n      \"properties\": {\n        \"dtype\": \"string\",\n        \"num_unique_values\": 49582,\n        \"samples\": [\n          \"\\\"Soul Plane\\\" is a horrible attempt at comedy that only should appeal people with thick skulls, bloodshot eyes and furry pawns. <br /><br />The plot is not only incoherent but also non-existent, acting is mostly sub sub-par with a gang of highly moronic and dreadful characters thrown in for bad measure, jokes are often spotted miles ahead and almost never even a bit amusing. This movie lacks any structure and is full of racial stereotypes that must have seemed old even in the fifties, the only thing it really has going for it is some pretty ladies, but really, if you want that you can rent something from the \\\"Adult\\\" section. OK?<br /><br />I can hardly see anything here to recommend since you'll probably have a lot a better and productive time chasing rats with a sledgehammer or inventing waterproof teabags or whatever.<br /><br />2/10\",\n          \"Guest from the Future tells a fascinating story of time travel, friendship, battle of good and evil -- all with a small budget, child actors, and few special effects. Something for Spielberg and Lucas to learn from. ;) A sixth-grader Kolya \\\"Nick\\\" Gerasimov finds a time machine in the basement of a decrepit building and travels 100 years into the future. He discovers a near-perfect, utopian society where robots play guitars and write poetry, everyone is kind to each other and people enjoy everything technology has to offer. Alice is the daughter of a prominent scientist who invented a device called Mielophone that allows to read minds of humans and animals. The device can be put to both good and bad use, depending on whose hands it falls into. When two evil space pirates from Saturn who want to rule the universe attempt to steal Mielophone, it falls into the hands of 20th century school boy Nick. With the pirates hot on his tracks, he travels back to his time, followed by the pirates, and Alice. Chaos, confusion and funny situations follow as the luckless pirates try to blend in with the earthlings. Alice enrolls in the same school Nick goes to and demonstrates superhuman abilities in PE class. The catch is, Alice doesn't know what Nick looks like, while the pirates do. Also, the pirates are able to change their appearance and turn literally into anyone. (Hmm, I wonder if this is where James Cameron got the idea for Terminator...) Who gets to Nick -- and Mielophone -- first? Excellent plot, non-stop adventures, and great soundtrack. I wish Hollywood made kid movies like this one...\",\n          \"\\\"National Treasure\\\" (2004) is a thoroughly misguided hodge-podge of plot entanglements that borrow from nearly every cloak and dagger government conspiracy clich\\u00e9 that has ever been written. The film stars Nicholas Cage as Benjamin Franklin Gates (how precious is that, I ask you?); a seemingly normal fellow who, for no other reason than being of a lineage of like-minded misguided fortune hunters, decides to steal a 'national treasure' that has been hidden by the United States founding fathers. After a bit of subtext and background that plays laughably (unintentionally) like Indiana Jones meets The Patriot, the film degenerates into one misguided whimsy after another \\u0096 attempting to create a 'Stanley Goodspeed' regurgitation of Nicholas Cage and launch the whole convoluted mess forward with a series of high octane, but disconnected misadventures.<br /><br />The relevancy and logic to having George Washington and his motley crew of patriots burying a king's ransom someplace on native soil, and then, going through the meticulous plan of leaving clues scattered throughout U.S. currency art work, is something that director Jon Turteltaub never quite gets around to explaining. Couldn't Washington found better usage for such wealth during the start up of the country? Hence, we are left with a mystery built on top of an enigma that is already on shaky ground by the time Ben appoints himself the new custodian of this untold wealth. Ben's intentions are noble \\u0096 if confusing. He's set on protecting the treasure. For who and when?\\u0085your guess is as good as mine.<br /><br />But there are a few problems with Ben's crusade. First up, his friend, Ian Holmes (Sean Bean) decides that he can't wait for Ben to make up his mind about stealing the Declaration of Independence from the National Archives (oh, yeah \\u0096 brilliant idea!). Presumably, the back of that famous document holds the secret answer to the ultimate fortune. So Ian tries to kill Ben. The assassination attempt is, of course, unsuccessful, if overly melodramatic. It also affords Ben the opportunity to pick up, and pick on, the very sultry curator of the archives, Abigail Chase (Diane Kruger). She thinks Ben is clearly a nut \\u0096 at least at the beginning. But true to action/romance form, Abby's resolve melts quicker than you can say, \\\"is that the Hope Diamond?\\\" The film moves into full X-File-ish mode, as the FBI, mistakenly believing that Ben is behind the theft, retaliate in various benign ways that lead to a multi-layering of action sequences reminiscent of Mission Impossible meets The Fugitive. Honestly, don't those guys ever get 'intelligence' information that is correct? In the final analysis, \\\"National Treasure\\\" isn't great film making, so much as it's a patchwork rehash of tired old bits from other movies, woven together from scraps, the likes of which would make IL' Betsy Ross blush.<br /><br />The Buena Vista DVD delivers a far more generous treatment than this film is deserving of. The anamorphic widescreen picture exhibits a very smooth and finely detailed image with very rich colors, natural flesh tones, solid blacks and clean whites. The stylized image is also free of blemishes and digital enhancements. The audio is 5.1 and delivers a nice sonic boom to your side and rear speakers with intensity and realism. Extras include a host of promotional junket material that is rather deep and over the top in its explanation of how and why this film was made. If only, as an audience, we had had more clarification as to why Ben and co. were chasing after an illusive treasure, this might have been one good flick. Extras conclude with the theatrical trailer, audio commentary and deleted scenes. Not for the faint-hearted \\u0096 just the thick-headed.\"\n        ],\n        \"semantic_type\": \"\",\n        \"description\": \"\"\n      }\n    },\n    {\n      \"column\": \"sentiment\",\n      \"properties\": {\n        \"dtype\": \"category\",\n        \"num_unique_values\": 2,\n        \"samples\": [\n          \"negative\",\n          \"positive\"\n        ],\n        \"semantic_type\": \"\",\n        \"description\": \"\"\n      }\n    }\n  ]\n}"
            }
          },
          "metadata": {},
          "execution_count": 4
        }
      ]
    },
    {
      "cell_type": "code",
      "source": [
        "df[\"sentiment\"].value_counts()"
      ],
      "metadata": {
        "colab": {
          "base_uri": "https://localhost:8080/",
          "height": 178
        },
        "id": "Bu4bz-ScxiOB",
        "outputId": "c3be752d-48a3-4444-f2fa-926b27c57af1"
      },
      "execution_count": 5,
      "outputs": [
        {
          "output_type": "execute_result",
          "data": {
            "text/plain": [
              "sentiment\n",
              "positive    25000\n",
              "negative    25000\n",
              "Name: count, dtype: int64"
            ],
            "text/html": [
              "<div>\n",
              "<style scoped>\n",
              "    .dataframe tbody tr th:only-of-type {\n",
              "        vertical-align: middle;\n",
              "    }\n",
              "\n",
              "    .dataframe tbody tr th {\n",
              "        vertical-align: top;\n",
              "    }\n",
              "\n",
              "    .dataframe thead th {\n",
              "        text-align: right;\n",
              "    }\n",
              "</style>\n",
              "<table border=\"1\" class=\"dataframe\">\n",
              "  <thead>\n",
              "    <tr style=\"text-align: right;\">\n",
              "      <th></th>\n",
              "      <th>count</th>\n",
              "    </tr>\n",
              "    <tr>\n",
              "      <th>sentiment</th>\n",
              "      <th></th>\n",
              "    </tr>\n",
              "  </thead>\n",
              "  <tbody>\n",
              "    <tr>\n",
              "      <th>positive</th>\n",
              "      <td>25000</td>\n",
              "    </tr>\n",
              "    <tr>\n",
              "      <th>negative</th>\n",
              "      <td>25000</td>\n",
              "    </tr>\n",
              "  </tbody>\n",
              "</table>\n",
              "</div><br><label><b>dtype:</b> int64</label>"
            ]
          },
          "metadata": {},
          "execution_count": 5
        }
      ]
    },
    {
      "cell_type": "code",
      "source": [
        "train_df, test_df = train_test_split(df, test_size=0.2, random_state=42, stratify=df['sentiment'])\n"
      ],
      "metadata": {
        "id": "FUgHXCccxlhw"
      },
      "execution_count": 6,
      "outputs": []
    },
    {
      "cell_type": "code",
      "source": [
        "import re\n",
        "import nltk\n",
        "nltk.download('stopwords')\n",
        "from nltk.corpus import stopwords\n",
        "\n",
        "# Define stopwords but keep important negations\n",
        "stop_words = set(stopwords.words('english'))\n",
        "negations = {'not', 'no', 'never'}\n",
        "stop_words = stop_words - negations\n",
        "\n",
        "def clean_text(text):\n",
        "    # Lowercase\n",
        "    text = text.lower()\n",
        "\n",
        "    # Remove HTML tags\n",
        "    text = re.sub(r'<.*?>', ' ', text)\n",
        "\n",
        "    # Remove URLs\n",
        "    text = re.sub(r'http\\S+|www\\S+|https\\S+', ' ', text, flags=re.MULTILINE)\n",
        "\n",
        "    # Remove punctuation (keep spaces)\n",
        "    text = re.sub(r'[^a-z\\s]', ' ', text)\n",
        "\n",
        "    # Tokenize and remove stopwords\n",
        "    tokens = text.split()\n",
        "    tokens = [word for word in tokens if word not in stop_words]\n",
        "\n",
        "    # Join tokens back to string\n",
        "    text = ' '.join(tokens)\n",
        "\n",
        "    # Remove extra whitespaces\n",
        "    text = re.sub(r'\\s+', ' ', text).strip()\n",
        "\n",
        "    return text\n"
      ],
      "metadata": {
        "colab": {
          "base_uri": "https://localhost:8080/"
        },
        "id": "LS5me2llxm4w",
        "outputId": "79569085-c9d8-4c85-9b98-24245e0b85c2"
      },
      "execution_count": 7,
      "outputs": [
        {
          "output_type": "stream",
          "name": "stderr",
          "text": [
            "[nltk_data] Downloading package stopwords to /root/nltk_data...\n",
            "[nltk_data]   Unzipping corpora/stopwords.zip.\n"
          ]
        }
      ]
    },
    {
      "cell_type": "code",
      "source": [
        "train_df['cleaned_text'] = train_df[\"review\"].apply(lambda x: clean_text(x))\n",
        "test_df['cleaned_text'] = test_df[\"review\"].apply(lambda x: clean_text(x))"
      ],
      "metadata": {
        "id": "LSaYfjZ2xpYi"
      },
      "execution_count": 8,
      "outputs": []
    },
    {
      "cell_type": "code",
      "source": [
        "train_df.head(3)"
      ],
      "metadata": {
        "colab": {
          "base_uri": "https://localhost:8080/",
          "height": 143
        },
        "id": "p2cODaLlxrQf",
        "outputId": "f7eb5d48-3c7a-4532-9add-703b7ede8e31"
      },
      "execution_count": 9,
      "outputs": [
        {
          "output_type": "execute_result",
          "data": {
            "text/plain": [
              "                                                  review sentiment  \\\n",
              "47808  I caught this little gem totally by accident b...  positive   \n",
              "20154  I can't believe that I let myself into this mo...  negative   \n",
              "43069  *spoiler alert!* it just gets to me the nerve ...  negative   \n",
              "\n",
              "                                            cleaned_text  \n",
              "47808  caught little gem totally accident back reviva...  \n",
              "20154  believe let movie accomplish favor friends ask...  \n",
              "43069  spoiler alert gets nerve people remake use ter...  "
            ],
            "text/html": [
              "\n",
              "  <div id=\"df-2ac9f754-ce1e-4319-b47c-625a532f8470\" class=\"colab-df-container\">\n",
              "    <div>\n",
              "<style scoped>\n",
              "    .dataframe tbody tr th:only-of-type {\n",
              "        vertical-align: middle;\n",
              "    }\n",
              "\n",
              "    .dataframe tbody tr th {\n",
              "        vertical-align: top;\n",
              "    }\n",
              "\n",
              "    .dataframe thead th {\n",
              "        text-align: right;\n",
              "    }\n",
              "</style>\n",
              "<table border=\"1\" class=\"dataframe\">\n",
              "  <thead>\n",
              "    <tr style=\"text-align: right;\">\n",
              "      <th></th>\n",
              "      <th>review</th>\n",
              "      <th>sentiment</th>\n",
              "      <th>cleaned_text</th>\n",
              "    </tr>\n",
              "  </thead>\n",
              "  <tbody>\n",
              "    <tr>\n",
              "      <th>47808</th>\n",
              "      <td>I caught this little gem totally by accident b...</td>\n",
              "      <td>positive</td>\n",
              "      <td>caught little gem totally accident back reviva...</td>\n",
              "    </tr>\n",
              "    <tr>\n",
              "      <th>20154</th>\n",
              "      <td>I can't believe that I let myself into this mo...</td>\n",
              "      <td>negative</td>\n",
              "      <td>believe let movie accomplish favor friends ask...</td>\n",
              "    </tr>\n",
              "    <tr>\n",
              "      <th>43069</th>\n",
              "      <td>*spoiler alert!* it just gets to me the nerve ...</td>\n",
              "      <td>negative</td>\n",
              "      <td>spoiler alert gets nerve people remake use ter...</td>\n",
              "    </tr>\n",
              "  </tbody>\n",
              "</table>\n",
              "</div>\n",
              "    <div class=\"colab-df-buttons\">\n",
              "\n",
              "  <div class=\"colab-df-container\">\n",
              "    <button class=\"colab-df-convert\" onclick=\"convertToInteractive('df-2ac9f754-ce1e-4319-b47c-625a532f8470')\"\n",
              "            title=\"Convert this dataframe to an interactive table.\"\n",
              "            style=\"display:none;\">\n",
              "\n",
              "  <svg xmlns=\"http://www.w3.org/2000/svg\" height=\"24px\" viewBox=\"0 -960 960 960\">\n",
              "    <path d=\"M120-120v-720h720v720H120Zm60-500h600v-160H180v160Zm220 220h160v-160H400v160Zm0 220h160v-160H400v160ZM180-400h160v-160H180v160Zm440 0h160v-160H620v160ZM180-180h160v-160H180v160Zm440 0h160v-160H620v160Z\"/>\n",
              "  </svg>\n",
              "    </button>\n",
              "\n",
              "  <style>\n",
              "    .colab-df-container {\n",
              "      display:flex;\n",
              "      gap: 12px;\n",
              "    }\n",
              "\n",
              "    .colab-df-convert {\n",
              "      background-color: #E8F0FE;\n",
              "      border: none;\n",
              "      border-radius: 50%;\n",
              "      cursor: pointer;\n",
              "      display: none;\n",
              "      fill: #1967D2;\n",
              "      height: 32px;\n",
              "      padding: 0 0 0 0;\n",
              "      width: 32px;\n",
              "    }\n",
              "\n",
              "    .colab-df-convert:hover {\n",
              "      background-color: #E2EBFA;\n",
              "      box-shadow: 0px 1px 2px rgba(60, 64, 67, 0.3), 0px 1px 3px 1px rgba(60, 64, 67, 0.15);\n",
              "      fill: #174EA6;\n",
              "    }\n",
              "\n",
              "    .colab-df-buttons div {\n",
              "      margin-bottom: 4px;\n",
              "    }\n",
              "\n",
              "    [theme=dark] .colab-df-convert {\n",
              "      background-color: #3B4455;\n",
              "      fill: #D2E3FC;\n",
              "    }\n",
              "\n",
              "    [theme=dark] .colab-df-convert:hover {\n",
              "      background-color: #434B5C;\n",
              "      box-shadow: 0px 1px 3px 1px rgba(0, 0, 0, 0.15);\n",
              "      filter: drop-shadow(0px 1px 2px rgba(0, 0, 0, 0.3));\n",
              "      fill: #FFFFFF;\n",
              "    }\n",
              "  </style>\n",
              "\n",
              "    <script>\n",
              "      const buttonEl =\n",
              "        document.querySelector('#df-2ac9f754-ce1e-4319-b47c-625a532f8470 button.colab-df-convert');\n",
              "      buttonEl.style.display =\n",
              "        google.colab.kernel.accessAllowed ? 'block' : 'none';\n",
              "\n",
              "      async function convertToInteractive(key) {\n",
              "        const element = document.querySelector('#df-2ac9f754-ce1e-4319-b47c-625a532f8470');\n",
              "        const dataTable =\n",
              "          await google.colab.kernel.invokeFunction('convertToInteractive',\n",
              "                                                    [key], {});\n",
              "        if (!dataTable) return;\n",
              "\n",
              "        const docLinkHtml = 'Like what you see? Visit the ' +\n",
              "          '<a target=\"_blank\" href=https://colab.research.google.com/notebooks/data_table.ipynb>data table notebook</a>'\n",
              "          + ' to learn more about interactive tables.';\n",
              "        element.innerHTML = '';\n",
              "        dataTable['output_type'] = 'display_data';\n",
              "        await google.colab.output.renderOutput(dataTable, element);\n",
              "        const docLink = document.createElement('div');\n",
              "        docLink.innerHTML = docLinkHtml;\n",
              "        element.appendChild(docLink);\n",
              "      }\n",
              "    </script>\n",
              "  </div>\n",
              "\n",
              "\n",
              "    <div id=\"df-aa0874d0-d6a7-4b6d-9330-dfbfd03b637e\">\n",
              "      <button class=\"colab-df-quickchart\" onclick=\"quickchart('df-aa0874d0-d6a7-4b6d-9330-dfbfd03b637e')\"\n",
              "                title=\"Suggest charts\"\n",
              "                style=\"display:none;\">\n",
              "\n",
              "<svg xmlns=\"http://www.w3.org/2000/svg\" height=\"24px\"viewBox=\"0 0 24 24\"\n",
              "     width=\"24px\">\n",
              "    <g>\n",
              "        <path d=\"M19 3H5c-1.1 0-2 .9-2 2v14c0 1.1.9 2 2 2h14c1.1 0 2-.9 2-2V5c0-1.1-.9-2-2-2zM9 17H7v-7h2v7zm4 0h-2V7h2v10zm4 0h-2v-4h2v4z\"/>\n",
              "    </g>\n",
              "</svg>\n",
              "      </button>\n",
              "\n",
              "<style>\n",
              "  .colab-df-quickchart {\n",
              "      --bg-color: #E8F0FE;\n",
              "      --fill-color: #1967D2;\n",
              "      --hover-bg-color: #E2EBFA;\n",
              "      --hover-fill-color: #174EA6;\n",
              "      --disabled-fill-color: #AAA;\n",
              "      --disabled-bg-color: #DDD;\n",
              "  }\n",
              "\n",
              "  [theme=dark] .colab-df-quickchart {\n",
              "      --bg-color: #3B4455;\n",
              "      --fill-color: #D2E3FC;\n",
              "      --hover-bg-color: #434B5C;\n",
              "      --hover-fill-color: #FFFFFF;\n",
              "      --disabled-bg-color: #3B4455;\n",
              "      --disabled-fill-color: #666;\n",
              "  }\n",
              "\n",
              "  .colab-df-quickchart {\n",
              "    background-color: var(--bg-color);\n",
              "    border: none;\n",
              "    border-radius: 50%;\n",
              "    cursor: pointer;\n",
              "    display: none;\n",
              "    fill: var(--fill-color);\n",
              "    height: 32px;\n",
              "    padding: 0;\n",
              "    width: 32px;\n",
              "  }\n",
              "\n",
              "  .colab-df-quickchart:hover {\n",
              "    background-color: var(--hover-bg-color);\n",
              "    box-shadow: 0 1px 2px rgba(60, 64, 67, 0.3), 0 1px 3px 1px rgba(60, 64, 67, 0.15);\n",
              "    fill: var(--button-hover-fill-color);\n",
              "  }\n",
              "\n",
              "  .colab-df-quickchart-complete:disabled,\n",
              "  .colab-df-quickchart-complete:disabled:hover {\n",
              "    background-color: var(--disabled-bg-color);\n",
              "    fill: var(--disabled-fill-color);\n",
              "    box-shadow: none;\n",
              "  }\n",
              "\n",
              "  .colab-df-spinner {\n",
              "    border: 2px solid var(--fill-color);\n",
              "    border-color: transparent;\n",
              "    border-bottom-color: var(--fill-color);\n",
              "    animation:\n",
              "      spin 1s steps(1) infinite;\n",
              "  }\n",
              "\n",
              "  @keyframes spin {\n",
              "    0% {\n",
              "      border-color: transparent;\n",
              "      border-bottom-color: var(--fill-color);\n",
              "      border-left-color: var(--fill-color);\n",
              "    }\n",
              "    20% {\n",
              "      border-color: transparent;\n",
              "      border-left-color: var(--fill-color);\n",
              "      border-top-color: var(--fill-color);\n",
              "    }\n",
              "    30% {\n",
              "      border-color: transparent;\n",
              "      border-left-color: var(--fill-color);\n",
              "      border-top-color: var(--fill-color);\n",
              "      border-right-color: var(--fill-color);\n",
              "    }\n",
              "    40% {\n",
              "      border-color: transparent;\n",
              "      border-right-color: var(--fill-color);\n",
              "      border-top-color: var(--fill-color);\n",
              "    }\n",
              "    60% {\n",
              "      border-color: transparent;\n",
              "      border-right-color: var(--fill-color);\n",
              "    }\n",
              "    80% {\n",
              "      border-color: transparent;\n",
              "      border-right-color: var(--fill-color);\n",
              "      border-bottom-color: var(--fill-color);\n",
              "    }\n",
              "    90% {\n",
              "      border-color: transparent;\n",
              "      border-bottom-color: var(--fill-color);\n",
              "    }\n",
              "  }\n",
              "</style>\n",
              "\n",
              "      <script>\n",
              "        async function quickchart(key) {\n",
              "          const quickchartButtonEl =\n",
              "            document.querySelector('#' + key + ' button');\n",
              "          quickchartButtonEl.disabled = true;  // To prevent multiple clicks.\n",
              "          quickchartButtonEl.classList.add('colab-df-spinner');\n",
              "          try {\n",
              "            const charts = await google.colab.kernel.invokeFunction(\n",
              "                'suggestCharts', [key], {});\n",
              "          } catch (error) {\n",
              "            console.error('Error during call to suggestCharts:', error);\n",
              "          }\n",
              "          quickchartButtonEl.classList.remove('colab-df-spinner');\n",
              "          quickchartButtonEl.classList.add('colab-df-quickchart-complete');\n",
              "        }\n",
              "        (() => {\n",
              "          let quickchartButtonEl =\n",
              "            document.querySelector('#df-aa0874d0-d6a7-4b6d-9330-dfbfd03b637e button');\n",
              "          quickchartButtonEl.style.display =\n",
              "            google.colab.kernel.accessAllowed ? 'block' : 'none';\n",
              "        })();\n",
              "      </script>\n",
              "    </div>\n",
              "\n",
              "    </div>\n",
              "  </div>\n"
            ],
            "application/vnd.google.colaboratory.intrinsic+json": {
              "type": "dataframe",
              "variable_name": "train_df",
              "summary": "{\n  \"name\": \"train_df\",\n  \"rows\": 40000,\n  \"fields\": [\n    {\n      \"column\": \"review\",\n      \"properties\": {\n        \"dtype\": \"string\",\n        \"num_unique_values\": 39728,\n        \"samples\": [\n          \"So I turned on HBO which I just got thinking that it would have some quality movies and I saw this. Carrot Top is so unfunny it's nauseating to watch. I've seen unfunny movies before but I think I find this one so impossible to watch because Carrot Top seems to think he's hilarious. Watching this movie is really like watching a movie designed for 5 year olds with crazy, over the top overreactions replete with ultra stupid jokes that only a 4 year old would appreciate.<br /><br />What is amazing is how some other talented actors actually signed on for this project, such as Larry Miller and M Emmet Walsh. If you've ever seen Carrot Top's absolutely horrible MCI commercials (or whatever they were) then this is more of the same, just worse. It's a slapstick fest that is a waste of a high budget that could have done something, saved homeless people... anything but this. I'm not sure it's in the bottom 50 of all time but for the $10 million spent it's a disgrace.\",\n          \"I've tried to like this film, really. In watching it, all I can think is, \\\"This guy gives me the creeps, I would have gotten a restraining order\\\". It also calls out CODEPENDENCE in capital letters. Was this really the conversation before making the movie? \\\"Let's make a film that puts two chronically depressed, socially inept people into a relationship which deepens their isolation and encourages them to complain about how bad their lives are!\\\" From what I've seen in life is that the last thing on earth we find attractive in a potential mate is constant self-pity. <br /><br />The mood of the movie is distinctly 80-ish; brooding and slow. Don't get me wrong, the film has its moments, just very few of them.\",\n          \"Most war films made in the US during WWII were great fun to watch but suffered from severe gaps in realism because they were being produced more for propaganda value to raise the spirits at home than anything else. I am not knocking these films as many of them are still very watchable. However, because they so often lack realism they are prevented from being truly great films. A perfect example was the John Garfield film Air Force--in which a B-17 nearly single-handedly takes out half the Japanese air force! However, Pride Of The Marines is a welcome departure--scoring high marks for portraying a true story in a reasonably accurate manner. When I first saw this film, I thought it was NOT a true story as it seemed way too improbable to be true. However, after researching further I found that it was in fact rather true to the amazing story of two men who did so much to earn the Medal of Honor. This is one case where real life seemed too incredible to be true!\"\n        ],\n        \"semantic_type\": \"\",\n        \"description\": \"\"\n      }\n    },\n    {\n      \"column\": \"sentiment\",\n      \"properties\": {\n        \"dtype\": \"category\",\n        \"num_unique_values\": 2,\n        \"samples\": [\n          \"negative\",\n          \"positive\"\n        ],\n        \"semantic_type\": \"\",\n        \"description\": \"\"\n      }\n    },\n    {\n      \"column\": \"cleaned_text\",\n      \"properties\": {\n        \"dtype\": \"string\",\n        \"num_unique_values\": 39724,\n        \"samples\": [\n          \"show brilliantly hilarious started watching never heard one episode hooked never home watch wife bought entire series dvd non stop laughs need say wish still tv definitely worthy whole lot better crap currently tv wish would make movie seriously go see kevin james name alone bring huge fanbase movie guy make stomach hurt funny really good earth believable show chance buy dvd worth\",\n          \"see meaning title till much later get point first minutes directorial debut golden globe nominated actor danny devito also playing owen ned little ned lift terrific hitchcock like film one man hate wife book stole one man hate mother basically owen wants good writer like teacher larry donner billy crystal inspired murder stories larry suggests see hitchcock film quite ironic owen idea kill larry ex wife margaret star trek voyager kate mulgrew owen inspired strangers train swapping murders larry must kill owen horrible momma oscar golden globe nominated anne ramsey larry convinced owen killed margaret also wanted kill owen momma happy ending months later larry owen bring books momma died naturally went holiday beth ryan kim greist also starring rob reiner joel oprah winfrey hilarious moments great director actor support must see comedy good\"\n        ],\n        \"semantic_type\": \"\",\n        \"description\": \"\"\n      }\n    }\n  ]\n}"
            }
          },
          "metadata": {},
          "execution_count": 9
        }
      ]
    },
    {
      "cell_type": "code",
      "source": [
        "import nltk\n",
        "from nltk.tokenize import word_tokenize\n",
        "nltk.download('punkt')\n",
        "nltk.download('punkt_tab')"
      ],
      "metadata": {
        "colab": {
          "base_uri": "https://localhost:8080/"
        },
        "id": "0_AByYwfxtLz",
        "outputId": "b61835cb-bf8d-4e91-ed49-92bc992eaa63"
      },
      "execution_count": 10,
      "outputs": [
        {
          "output_type": "stream",
          "name": "stderr",
          "text": [
            "[nltk_data] Downloading package punkt to /root/nltk_data...\n",
            "[nltk_data]   Unzipping tokenizers/punkt.zip.\n",
            "[nltk_data] Downloading package punkt_tab to /root/nltk_data...\n",
            "[nltk_data]   Unzipping tokenizers/punkt_tab.zip.\n"
          ]
        },
        {
          "output_type": "execute_result",
          "data": {
            "text/plain": [
              "True"
            ]
          },
          "metadata": {},
          "execution_count": 10
        }
      ]
    },
    {
      "cell_type": "code",
      "source": [
        "vocab = {'<UNK>':0}"
      ],
      "metadata": {
        "id": "X3WHWhPTxuj2"
      },
      "execution_count": 11,
      "outputs": []
    },
    {
      "cell_type": "code",
      "source": [
        "def build_vocab(sentence):\n",
        "  for word in word_tokenize(sentence):\n",
        "    if word not in vocab:\n",
        "      vocab[word] = len(vocab)\n"
      ],
      "metadata": {
        "id": "ogAxrby1xwCo"
      },
      "execution_count": 12,
      "outputs": []
    },
    {
      "cell_type": "code",
      "source": [
        "for text in train_df[\"cleaned_text\"]:\n",
        "    build_vocab(text)\n",
        "\n",
        "for text in test_df[\"cleaned_text\"]:\n",
        "    build_vocab(text)\n"
      ],
      "metadata": {
        "id": "zqa5mRtdxxze"
      },
      "execution_count": 13,
      "outputs": []
    },
    {
      "cell_type": "code",
      "source": [
        "# 3️⃣ Convert text to indices\n",
        "def text_to_indices(text, vocab):\n",
        "    indexed_text = []\n",
        "    for word in word_tokenize(text):\n",
        "        if word in vocab:\n",
        "            indexed_text.append(vocab[word])\n",
        "        else:\n",
        "            indexed_text.append(vocab['<UNK>'])\n",
        "    return indexed_text"
      ],
      "metadata": {
        "id": "qIX5O_8Vx0Qk"
      },
      "execution_count": 14,
      "outputs": []
    },
    {
      "cell_type": "code",
      "source": [
        "text_to_indices(\"great movie\",vocab)"
      ],
      "metadata": {
        "colab": {
          "base_uri": "https://localhost:8080/"
        },
        "id": "y2WspakNx2wL",
        "outputId": "dc8efb1c-2622-4cd3-fc9f-f0313eba60b6"
      },
      "execution_count": 15,
      "outputs": [
        {
          "output_type": "execute_result",
          "data": {
            "text/plain": [
              "[411, 80]"
            ]
          },
          "metadata": {},
          "execution_count": 15
        }
      ]
    },
    {
      "cell_type": "code",
      "source": [
        "import torch\n",
        "from torch.utils.data import Dataset,DataLoader\n",
        "\n",
        "class CustomDataset(Dataset):\n",
        "    def __init__(self, data, vocab, targets):\n",
        "        self.data = data\n",
        "        self.vocab = vocab\n",
        "        self.targets = [1 if sentiment == 'positive' else 0 for sentiment in targets] # Convert sentiment strings to numerical labels\n",
        "\n",
        "    def __len__(self):\n",
        "        return len(self.data)\n",
        "\n",
        "    def __getitem__(self, idx):\n",
        "        seq = text_to_indices(self.data[idx], self.vocab)\n",
        "        seq_tensor = torch.tensor(seq)\n",
        "        target = torch.tensor(self.targets[idx], dtype=torch.long)\n",
        "        return seq_tensor, target"
      ],
      "metadata": {
        "id": "0euE2DMox4N2"
      },
      "execution_count": 16,
      "outputs": []
    },
    {
      "cell_type": "code",
      "source": [
        "train_dataset = CustomDataset(train_df[\"cleaned_text\"].tolist(), vocab,train_df[\"sentiment\"].tolist())\n",
        "test_dataset = CustomDataset(test_df[\"cleaned_text\"].tolist(), vocab,test_df[\"sentiment\"].tolist())"
      ],
      "metadata": {
        "id": "eXlFE-VYx6zL"
      },
      "execution_count": 17,
      "outputs": []
    },
    {
      "cell_type": "code",
      "source": [
        "from torch.nn.utils.rnn import pad_sequence\n",
        "\n",
        "def collate_fn(batch):\n",
        "    sequences, labels = zip(*batch)\n",
        "    sequences_padded = pad_sequence(sequences, batch_first=True, padding_value=0)\n",
        "    labels = torch.stack(labels)\n",
        "    return sequences_padded, labels\n"
      ],
      "metadata": {
        "id": "6jO1l-WZx8IM"
      },
      "execution_count": 18,
      "outputs": []
    },
    {
      "cell_type": "code",
      "source": [
        "train_dataloader = DataLoader(train_dataset, batch_size=32, shuffle=True,collate_fn=collate_fn,pin_memory=True,num_workers=2)\n",
        "test_dataloader =  DataLoader(test_dataset, batch_size=32, shuffle=False,collate_fn=collate_fn,pin_memory=True,num_workers=2)\n"
      ],
      "metadata": {
        "id": "MbBZ-Bnkx9p-"
      },
      "execution_count": 19,
      "outputs": []
    },
    {
      "cell_type": "code",
      "source": [
        "for batch,label in train_dataloader:\n",
        "  print(batch)\n",
        "  print(label)\n",
        "  break"
      ],
      "metadata": {
        "colab": {
          "base_uri": "https://localhost:8080/"
        },
        "id": "NvTppBc_x_Gj",
        "outputId": "cb1cdf2a-14f0-4390-fddd-257b155dcbf7"
      },
      "execution_count": 20,
      "outputs": [
        {
          "output_type": "stream",
          "name": "stdout",
          "text": [
            "tensor([[    4,  4338,  1777,  ...,     0,     0,     0],\n",
            "        [31731,    93,    57,  ...,     0,     0,     0],\n",
            "        [ 1043,  3824,   799,  ...,     0,     0,     0],\n",
            "        ...,\n",
            "        [ 1267,  8993,   211,  ...,     0,     0,     0],\n",
            "        [ 4633,  4435,    71,  ...,     0,     0,     0],\n",
            "        [12681,   483,  3805,  ...,     0,     0,     0]])\n",
            "tensor([0, 0, 1, 1, 1, 0, 0, 0, 0, 1, 1, 0, 0, 1, 1, 0, 1, 0, 1, 0, 1, 0, 1, 0,\n",
            "        1, 0, 1, 1, 1, 1, 0, 0])\n"
          ]
        }
      ]
    },
    {
      "cell_type": "code",
      "source": [
        "import torch.nn as nn"
      ],
      "metadata": {
        "id": "Wl0DJITnyBNt"
      },
      "execution_count": 21,
      "outputs": []
    },
    {
      "cell_type": "code",
      "source": [
        "def load_glove_embeddings(glove_path, vocab, embedding_dim=100):\n",
        "    embeddings = np.random.uniform(-0.25, 0.25, (len(vocab), embedding_dim)) # random embedding bana le agar glove mein word na hoa fallback ke liye\n",
        "    with open(glove_path, 'r', encoding='utf8') as f: # glove file ko open kia\n",
        "        for line in f: # line by line read kia\n",
        "            values = line.split() # line ko split kia\n",
        "            if len(values) == embedding_dim + 1: # Check if the number of values matches the expected dimension + 1 (for the word)\n",
        "                word = values[0] # line mein se word ko extract kia\n",
        "                if word in vocab: # check kia ke wo word vocab mein hai ya ni\n",
        "                    vector = np.asarray(values[1:], dtype='float32') # word ke jo values hain embedding ke unko string se conver kia f\n",
        "                    embeddings[vocab[word]] = vector\n",
        "    return torch.tensor(embeddings, dtype=torch.float)\n",
        "\n",
        "# Example\n",
        "embedding_matrix = load_glove_embeddings(\"glove.6B.100d.txt\", vocab)\n",
        "embedding_matrix = embedding_matrix.to(device)\n",
        "\n"
      ],
      "metadata": {
        "id": "VVdfe_v-yCo5"
      },
      "execution_count": 22,
      "outputs": []
    },
    {
      "cell_type": "code",
      "source": [
        "\n",
        "class ImdbModel(nn.Module):\n",
        "    def __init__(self, vocab_size, embed_dim, hidden_size, embedding_matrix=None, freeze=False, dropout=0.4):\n",
        "        super(ImdbModel, self).__init__()\n",
        "\n",
        "        if embedding_matrix is not None:\n",
        "            # Pretrained embeddings\n",
        "            self.embedding = nn.Embedding.from_pretrained(embedding_matrix, freeze=freeze)\n",
        "        else:\n",
        "            # Random initialization\n",
        "            self.embedding = nn.Embedding(vocab_size, embed_dim)\n",
        "\n",
        "        # Bidirectional LSTM\n",
        "        self.lstm = nn.LSTM(embed_dim, hidden_size, batch_first=True, bidirectional=True)\n",
        "\n",
        "        # Dropout layer to reduce overfitting\n",
        "        self.dropout = nn.Dropout(dropout)\n",
        "\n",
        "        # Fully connected layer\n",
        "        self.fc = nn.Linear(hidden_size * 2, 1)\n",
        "\n",
        "    def forward(self, x):\n",
        "        embedded = self.embedding(x)\n",
        "        lstm_out, _ = self.lstm(embedded)\n",
        "        out = lstm_out[:, -1, :]  # last timestep\n",
        "\n",
        "        out = self.dropout(out)   # apply dropout before classification\n",
        "        out = self.fc(out)\n",
        "        return out.squeeze(1)"
      ],
      "metadata": {
        "id": "yXEbILGxyE-O"
      },
      "execution_count": 82,
      "outputs": []
    },
    {
      "cell_type": "code",
      "source": [
        "model = ImdbModel(\n",
        "    vocab_size=len(vocab),\n",
        "    embed_dim=100,\n",
        "    hidden_size=128,\n",
        "    embedding_matrix=embedding_matrix,  # use pretrained\n",
        "    freeze=False,\n",
        "    dropout=0.4\n",
        "\n",
        ")"
      ],
      "metadata": {
        "id": "fxaa1HGGyHcF"
      },
      "execution_count": 83,
      "outputs": []
    },
    {
      "cell_type": "code",
      "source": [
        "model = model.to(device)"
      ],
      "metadata": {
        "id": "VgNtZ_5ByI7h"
      },
      "execution_count": 84,
      "outputs": []
    },
    {
      "cell_type": "code",
      "source": [
        "learning_rate = 0.001\n"
      ],
      "metadata": {
        "id": "oupM9CGXyKaV"
      },
      "execution_count": 85,
      "outputs": []
    },
    {
      "cell_type": "code",
      "source": [
        "criterion = nn.BCEWithLogitsLoss()  # Change criterion to BCEWithLogitsLoss\n",
        "optimizer = torch.optim.Adam(model.parameters(), lr=learning_rate)"
      ],
      "metadata": {
        "id": "bMKxck9vyMPT"
      },
      "execution_count": 90,
      "outputs": []
    },
    {
      "cell_type": "code",
      "source": [
        "scheduler = torch.optim.lr_scheduler.ReduceLROnPlateau(optimizer,mode=\"min\", patience=2, factor=0.5)\n",
        "\n"
      ],
      "metadata": {
        "id": "hJyO8pLeRs8B"
      },
      "execution_count": 91,
      "outputs": []
    },
    {
      "cell_type": "markdown",
      "source": [],
      "metadata": {
        "id": "f49ez_9-RsnB"
      }
    },
    {
      "cell_type": "code",
      "source": [
        "from sklearn.metrics import f1_score\n"
      ],
      "metadata": {
        "id": "1wd3S1Z_yW5I"
      },
      "execution_count": 60,
      "outputs": []
    },
    {
      "cell_type": "code",
      "source": [
        "# ------------------------\n",
        "# 1. Setup\n",
        "# ------------------------\n",
        "epochs = 10\n",
        "epoch_losses = []\n",
        "epoch_acc = []\n",
        "best_acc = 0.0\n",
        "\n",
        "# ------------------------\n",
        "# 2. Training Loop\n",
        "# ------------------------\n",
        "for epoch in range(epochs):\n",
        "    model.train()\n",
        "    total_loss = 0\n",
        "    correct = 0\n",
        "    total = 0\n",
        "\n",
        "    for batch_seq, batch_labels in train_dataloader:\n",
        "        batch_seq = batch_seq.to(device)\n",
        "        batch_labels = batch_labels.to(device).float()\n",
        "\n",
        "        optimizer.zero_grad()\n",
        "        outputs = model(batch_seq)\n",
        "        loss = criterion(outputs, batch_labels)\n",
        "        loss.backward()\n",
        "        optimizer.step()\n",
        "\n",
        "        total_loss += loss.item()\n",
        "\n",
        "        preds = torch.round(torch.sigmoid(outputs))\n",
        "        correct += (preds == batch_labels).sum().item()\n",
        "        total += batch_labels.size(0)\n",
        "\n",
        "    train_loss = total_loss / len(train_dataloader)\n",
        "    train_acc = correct / total\n",
        "\n",
        "    # ------------------------\n",
        "    # 3. Evaluation\n",
        "    # ------------------------\n",
        "    model.eval()\n",
        "    test_correct = 0\n",
        "    test_total = 0\n",
        "    all_preds = []\n",
        "    all_labels = []\n",
        "    total_test_loss = 0\n",
        "\n",
        "    with torch.no_grad():\n",
        "        for batch_seq, batch_labels in test_dataloader:\n",
        "            batch_seq = batch_seq.to(device)\n",
        "            batch_labels = batch_labels.to(device).float()\n",
        "\n",
        "            outputs = model(batch_seq)\n",
        "            loss = criterion(outputs, batch_labels)\n",
        "            total_test_loss += loss.item()\n",
        "\n",
        "            preds = torch.round(torch.sigmoid(outputs))\n",
        "            test_correct += (preds == batch_labels).sum().item()\n",
        "            test_total += batch_labels.size(0)\n",
        "            all_preds.extend(preds.cpu().numpy())\n",
        "            all_labels.extend(batch_labels.cpu().numpy())\n",
        "\n",
        "    test_loss = total_test_loss / len(test_dataloader)\n",
        "    test_acc = test_correct / test_total\n",
        "    test_f1 = f1_score(all_labels, all_preds)\n",
        "\n",
        "    # ------------------------\n",
        "    # 4. Scheduler & Save Best Model\n",
        "    # ------------------------\n",
        "    scheduler.step(test_loss)  # reduce LR if test_loss plateaus\n",
        "\n",
        "    if epoch == epochs - 1:\n",
        "       torch.save(model.state_dict(), \"best_model.pth\")\n",
        "       print(f\"💾 Final model saved (Epoch {epoch+1}) | Test Acc: {test_acc:.4f}\")\n",
        "\n",
        "\n",
        "    # ------------------------\n",
        "    # 5. Logging\n",
        "    # ------------------------\n",
        "    epoch_losses.append(train_loss)\n",
        "    epoch_acc.append(train_acc)\n",
        "\n",
        "    print(f\"Epoch {epoch+1}/{epochs} | \"\n",
        "          f\"Train Loss: {train_loss:.4f}, Train Acc: {train_acc:.4f} | \"\n",
        "          f\"Test Loss: {test_loss:.4f}, Test Acc: {test_acc:.4f}, F1: {test_f1:.4f}\")\n",
        "\n",
        "    if (epoch+1) % 5 == 0:\n",
        "        plt.figure(figsize=(8,4))\n",
        "        plt.plot(epoch_losses, label='Train Loss')\n",
        "        plt.plot(epoch_acc, label='Train Accuracy')\n",
        "        plt.title(f'Epoch {epoch+1}')\n",
        "        plt.xlabel('Epoch')\n",
        "        plt.legend()\n",
        "        plt.show()"
      ],
      "metadata": {
        "colab": {
          "base_uri": "https://localhost:8080/",
          "height": 994
        },
        "id": "1XepaunlyOWb",
        "outputId": "6512e60c-b596-4619-c5ac-c17034e9eb36"
      },
      "execution_count": 92,
      "outputs": [
        {
          "output_type": "stream",
          "name": "stdout",
          "text": [
            "Epoch 1/10 | Train Loss: 0.5161, Train Acc: 0.7826 | Test Loss: 0.6127, Test Acc: 0.6882, F1: 0.5706\n",
            "Epoch 2/10 | Train Loss: 0.5038, Train Acc: 0.7853 | Test Loss: 0.5643, Test Acc: 0.6529, F1: 0.5248\n",
            "Epoch 3/10 | Train Loss: 0.3111, Train Acc: 0.8743 | Test Loss: 0.2702, Test Acc: 0.8907, F1: 0.8938\n",
            "Epoch 4/10 | Train Loss: 0.1626, Train Acc: 0.9439 | Test Loss: 0.2720, Test Acc: 0.8956, F1: 0.8965\n",
            "Epoch 5/10 | Train Loss: 0.0734, Train Acc: 0.9802 | Test Loss: 0.3465, Test Acc: 0.8888, F1: 0.8882\n"
          ]
        },
        {
          "output_type": "display_data",
          "data": {
            "text/plain": [
              "<Figure size 800x400 with 1 Axes>"
            ],
            "image/png": "[encoded data removed]"
          },
          "metadata": {}
        },
        {
          "output_type": "stream",
          "name": "stdout",
          "text": [
            "Epoch 6/10 | Train Loss: 0.0386, Train Acc: 0.9921 | Test Loss: 0.4542, Test Acc: 0.8860, F1: 0.8871\n",
            "Epoch 7/10 | Train Loss: 0.0236, Train Acc: 0.9962 | Test Loss: 0.5877, Test Acc: 0.8857, F1: 0.8863\n",
            "Epoch 8/10 | Train Loss: 0.0195, Train Acc: 0.9971 | Test Loss: 0.6071, Test Acc: 0.8777, F1: 0.8759\n",
            "Epoch 9/10 | Train Loss: 0.0180, Train Acc: 0.9975 | Test Loss: 0.6510, Test Acc: 0.8762, F1: 0.8725\n",
            "💾 Final model saved (Epoch 10) | Test Acc: 0.8784\n",
            "Epoch 10/10 | Train Loss: 0.0143, Train Acc: 0.9981 | Test Loss: 0.6751, Test Acc: 0.8784, F1: 0.8791\n"
          ]
        },
        {
          "output_type": "display_data",
          "data": {
            "text/plain": [
              "<Figure size 800x400 with 1 Axes>"
            ],
            "image/png": "[encoded data removed]"
          },
          "metadata": {}
        }
      ]
    },
    {
      "cell_type": "code",
      "source": [
        "def predict(model, review, vocab, threshold=0.5):\n",
        "    \"\"\"\n",
        "    Predict sentiment of a review using a trained IMDB LSTM model.\n",
        "\n",
        "    Args:\n",
        "        model: trained PyTorch model\n",
        "        review: str or list of tokens\n",
        "        vocab: vocabulary dict {word: index}\n",
        "        threshold: float, decision threshold for positive class\n",
        "\n",
        "    Returns:\n",
        "        \"positive\" or \"negative\"\n",
        "    \"\"\"\n",
        "    # Ensure review is list of tokens\n",
        "    if isinstance(review, str):\n",
        "        cleaned_review = clean_text(review) # Clean the text first\n",
        "        tokens = cleaned_review  # Use the cleaned text for tokenization\n",
        "    elif isinstance(review, list):\n",
        "        tokens = review  # already tokenized (assuming it's already cleaned)\n",
        "    else:\n",
        "        raise TypeError(\"Review must be a string or list of tokens\")\n",
        "\n",
        "    # Convert tokens to indices\n",
        "    num_review = text_to_indices(tokens, vocab)  # implement this function to map tokens → indices\n",
        "\n",
        "    # Convert to tensor\n",
        "    review_tensor = torch.tensor(num_review).unsqueeze(0).to(next(model.parameters()).device)  # shape [1, seq_len]\n",
        "\n",
        "    model.eval()\n",
        "    with torch.no_grad():\n",
        "        output = model(review_tensor)             # raw logits\n",
        "        prediction = torch.sigmoid(output).item() # convert to probability\n",
        "        print(f\"Prediction score: {prediction:.4f}\")\n",
        "\n",
        "    return \"positive\" if prediction > threshold else \"negative\" if prediction < 1 - threshold else \"neutral\""
      ],
      "metadata": {
        "id": "KvYkp43_1t_4"
      },
      "execution_count": 113,
      "outputs": []
    },
    {
      "cell_type": "code",
      "source": [
        "reviews = [\n",
        "    \"The movie started strong but got slower and confusing toward the end.\",\n",
        "    \"Good performances, but the story didn’t leave much of an impact.\",\n",
        "    \"It had some funny moments, though overall it felt a bit too long.\",\n",
        "    \"The direction was okay, not great, but definitely not bad either.\",\n",
        "    \"Some parts were emotional, but others were plain dull and repetitive.\",\n",
        "    'the movie was so bad i wasted my time to watch this such a bad acting plz refund my money bad bad bad',\n",
        "]\n",
        "\n",
        "\n",
        "for i, review in enumerate(reviews, 1):\n",
        "    result = predict(model, review, vocab, threshold=0.5)  # use the loaded model\n",
        "    print(f\"Review {i}: {result}\")"
      ],
      "metadata": {
        "colab": {
          "base_uri": "https://localhost:8080/"
        },
        "id": "V104Fs5bO_jw",
        "outputId": "84e7cfd3-2ed2-49d9-9c5f-1227b8d9d0ae"
      },
      "execution_count": 114,
      "outputs": [
        {
          "output_type": "stream",
          "name": "stdout",
          "text": [
            "Prediction score: 0.9784\n",
            "Review 1: positive\n",
            "Prediction score: 0.9586\n",
            "Review 2: positive\n",
            "Prediction score: 0.9436\n",
            "Review 3: positive\n",
            "Prediction score: 0.0059\n",
            "Review 4: negative\n",
            "Prediction score: 0.3770\n",
            "Review 5: negative\n",
            "Prediction score: 0.0004\n",
            "Review 6: negative\n"
          ]
        }
      ]
    }
  ]
}